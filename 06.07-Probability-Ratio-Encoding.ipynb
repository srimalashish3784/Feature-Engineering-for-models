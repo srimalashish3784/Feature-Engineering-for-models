{
 "cells": [
  {
   "cell_type": "markdown",
   "metadata": {},
   "source": [
    "## Target guided encodings\n",
    "\n",
    "In the previous lectures in this section, we learned how to convert a label into a number, by using one hot encoding, replacing by a digit or replacing by frequency or counts of observations. These methods are simple, make (almost) no assumptions and work generally well in different scenarios.\n",
    "\n",
    "There are however methods that allow us to capture information while pre-processing the labels of categorical variables. These methods include:\n",
    "\n",
    "- Ordering the labels according to the target\n",
    "- Replacing labels by the target mean (mean encoding / target encoding)\n",
    "- Replacing the labels by the probability ratio of the target being 1 or 0\n",
    "- Weight of evidence.\n",
    "\n",
    "All of the above methods have something in common:\n",
    "\n",
    "- the encoding is **guided by the target**, and\n",
    "- they create a **monotonic relationship** between the variable and the target.\n",
    "\n",
    "\n",
    "### Monotonicity\n",
    "\n",
    "A monotonic relationship is a relationship that does one of the following:\n",
    "\n",
    "- (1) as the value of one variable increases, so does the value of the other variable; or\n",
    "- (2) as the value of one variable increases, the value of the other variable decreases.\n",
    "\n",
    "In this case, as the value of the independent variable (predictor) increases, so does the target, or conversely, as the value of the variable increases, the target value decreases.\n",
    "\n",
    "\n",
    "\n",
    "### Advantages of target guided encodings\n",
    "\n",
    "- Capture information within the category, therefore creating more predictive features\n",
    "- Create a monotonic relationship between the variable and the target, therefore suitable for linear models\n",
    "- Do not expand the feature space\n",
    "\n",
    "\n",
    "### Limitations\n",
    "\n",
    "- Prone to cause over-fitting\n",
    "- Difficult to cross-validate with current libraries\n",
    "\n",
    "\n",
    "### Note\n",
    "\n",
    "The methods discussed in this and the coming 3 lectures can be also used on numerical variables, after discretisation. This creates a monotonic relationship between the numerical variable and the target, and therefore improves the performance of linear models. I will discuss this in more detail in the section \"Discretisation\".\n",
    "\n",
    "===============================================================================\n",
    "\n",
    "## Probability Ratio Encoding\n",
    "\n",
    "These encoding is suitable for classification problems only, where the target is binary.\n",
    "\n",
    "For each category, we calculate the mean of target=1, that is the probability of the target being 1 ( P(1) ), and the probability of the target=0 ( P(0) ). And then, we calculate the ratio P(1)/P(0), and replace the categories by that ratio.\n",
    "\n",
    "\n",
    "## In this demo:\n",
    "\n",
    "We will see how to perform one hot encoding with:\n",
    "- pandas\n",
    "- Feature-Engine\n",
    "\n",
    "And the advantages and limitations of each implementation using the Titanic dataset."
   ]
  },
  {
   "cell_type": "code",
   "execution_count": 1,
   "metadata": {
    "scrolled": true
   },
   "outputs": [],
   "source": [
    "import numpy as np\n",
    "import pandas as pd\n",
    "\n",
    "import matplotlib.pyplot as plt\n",
    "\n",
    "# to split the datasets\n",
    "from sklearn.model_selection import train_test_split\n",
    "\n",
    "# for encoding with feature-engine\n",
    "from feature_engine.categorical_encoders import WoERatioCategoricalEncoder"
   ]
  },
  {
   "cell_type": "code",
   "execution_count": 3,
   "metadata": {},
   "outputs": [
    {
     "data": {
      "text/html": [
       "<div>\n",
       "<style scoped>\n",
       "    .dataframe tbody tr th:only-of-type {\n",
       "        vertical-align: middle;\n",
       "    }\n",
       "\n",
       "    .dataframe tbody tr th {\n",
       "        vertical-align: top;\n",
       "    }\n",
       "\n",
       "    .dataframe thead th {\n",
       "        text-align: right;\n",
       "    }\n",
       "</style>\n",
       "<table border=\"1\" class=\"dataframe\">\n",
       "  <thead>\n",
       "    <tr style=\"text-align: right;\">\n",
       "      <th></th>\n",
       "      <th>Survived</th>\n",
       "      <th>Sex</th>\n",
       "      <th>Cabin</th>\n",
       "      <th>Embarked</th>\n",
       "    </tr>\n",
       "  </thead>\n",
       "  <tbody>\n",
       "    <tr>\n",
       "      <th>0</th>\n",
       "      <td>0</td>\n",
       "      <td>male</td>\n",
       "      <td>NaN</td>\n",
       "      <td>S</td>\n",
       "    </tr>\n",
       "    <tr>\n",
       "      <th>1</th>\n",
       "      <td>1</td>\n",
       "      <td>female</td>\n",
       "      <td>C85</td>\n",
       "      <td>C</td>\n",
       "    </tr>\n",
       "    <tr>\n",
       "      <th>2</th>\n",
       "      <td>1</td>\n",
       "      <td>female</td>\n",
       "      <td>NaN</td>\n",
       "      <td>S</td>\n",
       "    </tr>\n",
       "    <tr>\n",
       "      <th>3</th>\n",
       "      <td>1</td>\n",
       "      <td>female</td>\n",
       "      <td>C123</td>\n",
       "      <td>S</td>\n",
       "    </tr>\n",
       "    <tr>\n",
       "      <th>4</th>\n",
       "      <td>0</td>\n",
       "      <td>male</td>\n",
       "      <td>NaN</td>\n",
       "      <td>S</td>\n",
       "    </tr>\n",
       "  </tbody>\n",
       "</table>\n",
       "</div>"
      ],
      "text/plain": [
       "   Survived     Sex Cabin Embarked\n",
       "0         0    male   NaN        S\n",
       "1         1  female   C85        C\n",
       "2         1  female   NaN        S\n",
       "3         1  female  C123        S\n",
       "4         0    male   NaN        S"
      ]
     },
     "execution_count": 3,
     "metadata": {},
     "output_type": "execute_result"
    }
   ],
   "source": [
    "# load dataset\n",
    "import os\n",
    "os.chdir(\"/Users/ashishsrimal/Phase1Code/Feature Engineering/HandsOnPythonCode/titanic/\")\n",
    "data = pd.read_csv(\n",
    "    'train.csv',\n",
    "    usecols=['Cabin', 'Sex', 'Embarked', 'Survived'])\n",
    "\n",
    "data.head()"
   ]
  },
  {
   "cell_type": "code",
   "execution_count": 4,
   "metadata": {},
   "outputs": [
    {
     "data": {
      "text/plain": [
       "(889, 4)"
      ]
     },
     "execution_count": 4,
     "metadata": {},
     "output_type": "execute_result"
    }
   ],
   "source": [
    "# let's remove obserrvations with na in embarked\n",
    "\n",
    "data.dropna(subset=['Embarked'], inplace=True)\n",
    "data.shape"
   ]
  },
  {
   "cell_type": "code",
   "execution_count": 5,
   "metadata": {},
   "outputs": [],
   "source": [
    "# Now we extract the first letter of the cabin\n",
    "# to create a simpler variable for the demo\n",
    "\n",
    "data['Cabin'] = data['Cabin'].astype(str).str[0]"
   ]
  },
  {
   "cell_type": "code",
   "execution_count": 6,
   "metadata": {},
   "outputs": [
    {
     "data": {
      "text/plain": [
       "(888, 4)"
      ]
     },
     "execution_count": 6,
     "metadata": {},
     "output_type": "execute_result"
    }
   ],
   "source": [
    "# and we remove the observations where cabin = T\n",
    "# because they are too few\n",
    "\n",
    "data = data[data['Cabin']!= 'T']\n",
    "data.shape"
   ]
  },
  {
   "cell_type": "code",
   "execution_count": 7,
   "metadata": {},
   "outputs": [
    {
     "name": "stdout",
     "output_type": "stream",
     "text": [
      "Survived :  2  labels\n",
      "Sex :  2  labels\n",
      "Cabin :  8  labels\n",
      "Embarked :  3  labels\n"
     ]
    }
   ],
   "source": [
    "# let's have a look at how many labels each variable has\n",
    "\n",
    "for col in data.columns:\n",
    "    print(col, ': ', len(data[col].unique()), ' labels')"
   ]
  },
  {
   "cell_type": "code",
   "execution_count": 8,
   "metadata": {},
   "outputs": [
    {
     "data": {
      "text/plain": [
       "array(['n', 'C', 'E', 'G', 'D', 'A', 'B', 'F'], dtype=object)"
      ]
     },
     "execution_count": 8,
     "metadata": {},
     "output_type": "execute_result"
    }
   ],
   "source": [
    "# let's explore the unique categories\n",
    "data['Cabin'].unique()"
   ]
  },
  {
   "cell_type": "code",
   "execution_count": 9,
   "metadata": {},
   "outputs": [
    {
     "data": {
      "text/plain": [
       "array(['male', 'female'], dtype=object)"
      ]
     },
     "execution_count": 9,
     "metadata": {},
     "output_type": "execute_result"
    }
   ],
   "source": [
    "data['Sex'].unique()"
   ]
  },
  {
   "cell_type": "code",
   "execution_count": 10,
   "metadata": {},
   "outputs": [
    {
     "data": {
      "text/plain": [
       "array(['S', 'C', 'Q'], dtype=object)"
      ]
     },
     "execution_count": 10,
     "metadata": {},
     "output_type": "execute_result"
    }
   ],
   "source": [
    "data['Embarked'].unique()"
   ]
  },
  {
   "cell_type": "markdown",
   "metadata": {},
   "source": [
    "### Encoding important\n",
    "\n",
    "We calculate the ratio  P(1)/P(0) using the train set, and then use those mappings in the test set.\n",
    "\n",
    "Note that to implement this in pandas, we need to keep the target in the training set."
   ]
  },
  {
   "cell_type": "code",
   "execution_count": 11,
   "metadata": {},
   "outputs": [
    {
     "data": {
      "text/plain": [
       "((621, 4), (267, 4))"
      ]
     },
     "execution_count": 11,
     "metadata": {},
     "output_type": "execute_result"
    }
   ],
   "source": [
    "# let's separate into training and testing set\n",
    "\n",
    "X_train, X_test, y_train, y_test = train_test_split(\n",
    "    data[['Cabin', 'Sex', 'Embarked', 'Survived']],  # this time we keep the target!!\n",
    "    data['Survived'],  # target\n",
    "    test_size=0.3,  # percentage of obs in test set\n",
    "    random_state=0)  # seed to ensure reproducibility\n",
    "\n",
    "X_train.shape, X_test.shape"
   ]
  },
  {
   "cell_type": "markdown",
   "metadata": {},
   "source": [
    "### Explore original relationship between categorical variables and target"
   ]
  },
  {
   "cell_type": "code",
   "execution_count": 12,
   "metadata": {},
   "outputs": [
    {
     "name": "stderr",
     "output_type": "stream",
     "text": [
      "/Library/Frameworks/Python.framework/Versions/3.8/lib/python3.8/site-packages/pandas/plotting/_matplotlib/core.py:1192: UserWarning: FixedFormatter should only be used together with FixedLocator\n",
      "  ax.set_xticklabels(xticklabels)\n"
     ]
    },
    {
     "data": {
      "image/png": "[encoded data removed]",
      "text/plain": [
       "<Figure size 432x288 with 1 Axes>"
      ]
     },
     "metadata": {
      "needs_background": "light"
     },
     "output_type": "display_data"
    },
    {
     "name": "stderr",
     "output_type": "stream",
     "text": [
      "/Library/Frameworks/Python.framework/Versions/3.8/lib/python3.8/site-packages/pandas/plotting/_matplotlib/core.py:1192: UserWarning: FixedFormatter should only be used together with FixedLocator\n",
      "  ax.set_xticklabels(xticklabels)\n"
     ]
    },
    {
     "data": {
      "image/png": "[encoded data removed]",
      "text/plain": [
       "<Figure size 432x288 with 1 Axes>"
      ]
     },
     "metadata": {
      "needs_background": "light"
     },
     "output_type": "display_data"
    },
    {
     "name": "stderr",
     "output_type": "stream",
     "text": [
      "/Library/Frameworks/Python.framework/Versions/3.8/lib/python3.8/site-packages/pandas/plotting/_matplotlib/core.py:1192: UserWarning: FixedFormatter should only be used together with FixedLocator\n",
      "  ax.set_xticklabels(xticklabels)\n"
     ]
    },
    {
     "data": {
      "image/png": "[encoded data removed]",
      "text/plain": [
       "<Figure size 432x288 with 1 Axes>"
      ]
     },
     "metadata": {
      "needs_background": "light"
     },
     "output_type": "display_data"
    }
   ],
   "source": [
    "# let's explore the relationship of the categories with the target\n",
    "\n",
    "for var in ['Cabin', 'Sex', 'Embarked']:\n",
    "    \n",
    "    fig = plt.figure()\n",
    "    fig = X_train.groupby([var])['Survived'].mean().plot()\n",
    "    fig.set_title('Relationship between {} and Survival'.format(var))\n",
    "    fig.set_ylabel('Mean Survival')\n",
    "    plt.show()"
   ]
  },
  {
   "cell_type": "markdown",
   "metadata": {},
   "source": [
    "You can see that the relationship between the target and cabin and embarked goes up and down, depending on the category.\n",
    "\n",
    "\n",
    "## Probability ratio encoding with pandas\n",
    "\n",
    "\n",
    "### Advantages\n",
    "\n",
    "- quick\n",
    "- returns pandas dataframe\n",
    "\n",
    "### Limitations of pandas:\n",
    "\n",
    "- it does not preserve information from train data to propagate to test data"
   ]
  },
  {
   "cell_type": "code",
   "execution_count": 13,
   "metadata": {},
   "outputs": [
    {
     "data": {
      "text/html": [
       "<div>\n",
       "<style scoped>\n",
       "    .dataframe tbody tr th:only-of-type {\n",
       "        vertical-align: middle;\n",
       "    }\n",
       "\n",
       "    .dataframe tbody tr th {\n",
       "        vertical-align: top;\n",
       "    }\n",
       "\n",
       "    .dataframe thead th {\n",
       "        text-align: right;\n",
       "    }\n",
       "</style>\n",
       "<table border=\"1\" class=\"dataframe\">\n",
       "  <thead>\n",
       "    <tr style=\"text-align: right;\">\n",
       "      <th></th>\n",
       "      <th>Survived</th>\n",
       "    </tr>\n",
       "    <tr>\n",
       "      <th>Cabin</th>\n",
       "      <th></th>\n",
       "    </tr>\n",
       "  </thead>\n",
       "  <tbody>\n",
       "    <tr>\n",
       "      <th>A</th>\n",
       "      <td>0.461538</td>\n",
       "    </tr>\n",
       "    <tr>\n",
       "      <th>B</th>\n",
       "      <td>0.727273</td>\n",
       "    </tr>\n",
       "    <tr>\n",
       "      <th>C</th>\n",
       "      <td>0.547619</td>\n",
       "    </tr>\n",
       "    <tr>\n",
       "      <th>D</th>\n",
       "      <td>0.750000</td>\n",
       "    </tr>\n",
       "    <tr>\n",
       "      <th>E</th>\n",
       "      <td>0.769231</td>\n",
       "    </tr>\n",
       "    <tr>\n",
       "      <th>F</th>\n",
       "      <td>0.583333</td>\n",
       "    </tr>\n",
       "    <tr>\n",
       "      <th>G</th>\n",
       "      <td>0.500000</td>\n",
       "    </tr>\n",
       "    <tr>\n",
       "      <th>n</th>\n",
       "      <td>0.308668</td>\n",
       "    </tr>\n",
       "  </tbody>\n",
       "</table>\n",
       "</div>"
      ],
      "text/plain": [
       "       Survived\n",
       "Cabin          \n",
       "A      0.461538\n",
       "B      0.727273\n",
       "C      0.547619\n",
       "D      0.750000\n",
       "E      0.769231\n",
       "F      0.583333\n",
       "G      0.500000\n",
       "n      0.308668"
      ]
     },
     "execution_count": 13,
     "metadata": {},
     "output_type": "execute_result"
    }
   ],
   "source": [
    "# let's calculate the probability of survived = 1 per category\n",
    "\n",
    "prob_df = X_train.groupby(['Cabin'])['Survived'].mean()\n",
    "\n",
    "# and capture it into a dataframe\n",
    "prob_df = pd.DataFrame(prob_df)\n",
    "prob_df"
   ]
  },
  {
   "cell_type": "code",
   "execution_count": 14,
   "metadata": {},
   "outputs": [
    {
     "data": {
      "text/html": [
       "<div>\n",
       "<style scoped>\n",
       "    .dataframe tbody tr th:only-of-type {\n",
       "        vertical-align: middle;\n",
       "    }\n",
       "\n",
       "    .dataframe tbody tr th {\n",
       "        vertical-align: top;\n",
       "    }\n",
       "\n",
       "    .dataframe thead th {\n",
       "        text-align: right;\n",
       "    }\n",
       "</style>\n",
       "<table border=\"1\" class=\"dataframe\">\n",
       "  <thead>\n",
       "    <tr style=\"text-align: right;\">\n",
       "      <th></th>\n",
       "      <th>Survived</th>\n",
       "      <th>died</th>\n",
       "    </tr>\n",
       "    <tr>\n",
       "      <th>Cabin</th>\n",
       "      <th></th>\n",
       "      <th></th>\n",
       "    </tr>\n",
       "  </thead>\n",
       "  <tbody>\n",
       "    <tr>\n",
       "      <th>A</th>\n",
       "      <td>0.461538</td>\n",
       "      <td>0.538462</td>\n",
       "    </tr>\n",
       "    <tr>\n",
       "      <th>B</th>\n",
       "      <td>0.727273</td>\n",
       "      <td>0.272727</td>\n",
       "    </tr>\n",
       "    <tr>\n",
       "      <th>C</th>\n",
       "      <td>0.547619</td>\n",
       "      <td>0.452381</td>\n",
       "    </tr>\n",
       "    <tr>\n",
       "      <th>D</th>\n",
       "      <td>0.750000</td>\n",
       "      <td>0.250000</td>\n",
       "    </tr>\n",
       "    <tr>\n",
       "      <th>E</th>\n",
       "      <td>0.769231</td>\n",
       "      <td>0.230769</td>\n",
       "    </tr>\n",
       "    <tr>\n",
       "      <th>F</th>\n",
       "      <td>0.583333</td>\n",
       "      <td>0.416667</td>\n",
       "    </tr>\n",
       "    <tr>\n",
       "      <th>G</th>\n",
       "      <td>0.500000</td>\n",
       "      <td>0.500000</td>\n",
       "    </tr>\n",
       "    <tr>\n",
       "      <th>n</th>\n",
       "      <td>0.308668</td>\n",
       "      <td>0.691332</td>\n",
       "    </tr>\n",
       "  </tbody>\n",
       "</table>\n",
       "</div>"
      ],
      "text/plain": [
       "       Survived      died\n",
       "Cabin                    \n",
       "A      0.461538  0.538462\n",
       "B      0.727273  0.272727\n",
       "C      0.547619  0.452381\n",
       "D      0.750000  0.250000\n",
       "E      0.769231  0.230769\n",
       "F      0.583333  0.416667\n",
       "G      0.500000  0.500000\n",
       "n      0.308668  0.691332"
      ]
     },
     "execution_count": 14,
     "metadata": {},
     "output_type": "execute_result"
    }
   ],
   "source": [
    "# and now the probability of survived = 0\n",
    "\n",
    "prob_df['died'] = 1 - prob_df['Survived']\n",
    "\n",
    "prob_df"
   ]
  },
  {
   "cell_type": "code",
   "execution_count": 15,
   "metadata": {},
   "outputs": [
    {
     "data": {
      "text/html": [
       "<div>\n",
       "<style scoped>\n",
       "    .dataframe tbody tr th:only-of-type {\n",
       "        vertical-align: middle;\n",
       "    }\n",
       "\n",
       "    .dataframe tbody tr th {\n",
       "        vertical-align: top;\n",
       "    }\n",
       "\n",
       "    .dataframe thead th {\n",
       "        text-align: right;\n",
       "    }\n",
       "</style>\n",
       "<table border=\"1\" class=\"dataframe\">\n",
       "  <thead>\n",
       "    <tr style=\"text-align: right;\">\n",
       "      <th></th>\n",
       "      <th>Survived</th>\n",
       "      <th>died</th>\n",
       "      <th>ratio</th>\n",
       "    </tr>\n",
       "    <tr>\n",
       "      <th>Cabin</th>\n",
       "      <th></th>\n",
       "      <th></th>\n",
       "      <th></th>\n",
       "    </tr>\n",
       "  </thead>\n",
       "  <tbody>\n",
       "    <tr>\n",
       "      <th>A</th>\n",
       "      <td>0.461538</td>\n",
       "      <td>0.538462</td>\n",
       "      <td>0.857143</td>\n",
       "    </tr>\n",
       "    <tr>\n",
       "      <th>B</th>\n",
       "      <td>0.727273</td>\n",
       "      <td>0.272727</td>\n",
       "      <td>2.666667</td>\n",
       "    </tr>\n",
       "    <tr>\n",
       "      <th>C</th>\n",
       "      <td>0.547619</td>\n",
       "      <td>0.452381</td>\n",
       "      <td>1.210526</td>\n",
       "    </tr>\n",
       "    <tr>\n",
       "      <th>D</th>\n",
       "      <td>0.750000</td>\n",
       "      <td>0.250000</td>\n",
       "      <td>3.000000</td>\n",
       "    </tr>\n",
       "    <tr>\n",
       "      <th>E</th>\n",
       "      <td>0.769231</td>\n",
       "      <td>0.230769</td>\n",
       "      <td>3.333333</td>\n",
       "    </tr>\n",
       "    <tr>\n",
       "      <th>F</th>\n",
       "      <td>0.583333</td>\n",
       "      <td>0.416667</td>\n",
       "      <td>1.400000</td>\n",
       "    </tr>\n",
       "    <tr>\n",
       "      <th>G</th>\n",
       "      <td>0.500000</td>\n",
       "      <td>0.500000</td>\n",
       "      <td>1.000000</td>\n",
       "    </tr>\n",
       "    <tr>\n",
       "      <th>n</th>\n",
       "      <td>0.308668</td>\n",
       "      <td>0.691332</td>\n",
       "      <td>0.446483</td>\n",
       "    </tr>\n",
       "  </tbody>\n",
       "</table>\n",
       "</div>"
      ],
      "text/plain": [
       "       Survived      died     ratio\n",
       "Cabin                              \n",
       "A      0.461538  0.538462  0.857143\n",
       "B      0.727273  0.272727  2.666667\n",
       "C      0.547619  0.452381  1.210526\n",
       "D      0.750000  0.250000  3.000000\n",
       "E      0.769231  0.230769  3.333333\n",
       "F      0.583333  0.416667  1.400000\n",
       "G      0.500000  0.500000  1.000000\n",
       "n      0.308668  0.691332  0.446483"
      ]
     },
     "execution_count": 15,
     "metadata": {},
     "output_type": "execute_result"
    }
   ],
   "source": [
    "#  and now the ratio\n",
    "\n",
    "prob_df['ratio'] = prob_df['Survived'] / prob_df['died']\n",
    "\n",
    "prob_df"
   ]
  },
  {
   "cell_type": "code",
   "execution_count": 16,
   "metadata": {},
   "outputs": [
    {
     "data": {
      "text/plain": [
       "{'A': 0.8571428571428572,\n",
       " 'B': 2.666666666666667,\n",
       " 'C': 1.210526315789474,\n",
       " 'D': 3.0,\n",
       " 'E': 3.333333333333334,\n",
       " 'F': 1.4000000000000001,\n",
       " 'G': 1.0,\n",
       " 'n': 0.4464831804281345}"
      ]
     },
     "execution_count": 16,
     "metadata": {},
     "output_type": "execute_result"
    }
   ],
   "source": [
    "# and now let's capture the ratio in a dictionary\n",
    "\n",
    "ordered_labels = prob_df['ratio'].to_dict()\n",
    "\n",
    "ordered_labels"
   ]
  },
  {
   "cell_type": "code",
   "execution_count": 17,
   "metadata": {},
   "outputs": [],
   "source": [
    "# now, we replace the labels with the ratios\n",
    "\n",
    "X_train['Cabin'] = X_train['Cabin'].map(ordered_labels)\n",
    "X_test['Cabin'] = X_test['Cabin'].map(ordered_labels)"
   ]
  },
  {
   "cell_type": "code",
   "execution_count": 18,
   "metadata": {},
   "outputs": [
    {
     "data": {
      "text/plain": [
       "352    0.446483\n",
       "125    0.446483\n",
       "579    0.446483\n",
       "424    0.446483\n",
       "119    0.446483\n",
       "12     0.446483\n",
       "158    0.446483\n",
       "128    1.400000\n",
       "426    0.446483\n",
       "236    0.446483\n",
       "Name: Cabin, dtype: float64"
      ]
     },
     "execution_count": 18,
     "metadata": {},
     "output_type": "execute_result"
    }
   ],
   "source": [
    "# let's explore the result\n",
    "\n",
    "X_train['Cabin'].head(10)"
   ]
  },
  {
   "cell_type": "code",
   "execution_count": 19,
   "metadata": {},
   "outputs": [],
   "source": [
    "# we can turn the previous commands into 2 functions\n",
    "\n",
    "\n",
    "def find_category_mappings(df, variable, target):\n",
    "\n",
    "    tmp = pd.DataFrame(df.groupby([variable])[target].mean())\n",
    "    \n",
    "    tmp['non-target'] = 1 - tmp[target]\n",
    "    \n",
    "    tmp['ratio'] = tmp[target] / tmp['non-target']\n",
    "\n",
    "    return tmp['ratio'].to_dict()\n",
    "\n",
    "\n",
    "def integer_encode(train, test, variable, ordinal_mapping):\n",
    "\n",
    "    X_train[variable] = X_train[variable].map(ordinal_mapping)\n",
    "    X_test[variable] = X_test[variable].map(ordinal_mapping)"
   ]
  },
  {
   "cell_type": "code",
   "execution_count": 20,
   "metadata": {},
   "outputs": [],
   "source": [
    "# and now we run a loop over the remaining categorical variables\n",
    "\n",
    "for variable in ['Sex', 'Embarked']:\n",
    "    \n",
    "    mappings = find_category_mappings(X_train, variable, 'Survived')\n",
    "    \n",
    "    integer_encode(X_train, X_test, variable, mappings)"
   ]
  },
  {
   "cell_type": "code",
   "execution_count": 21,
   "metadata": {},
   "outputs": [
    {
     "data": {
      "text/html": [
       "<div>\n",
       "<style scoped>\n",
       "    .dataframe tbody tr th:only-of-type {\n",
       "        vertical-align: middle;\n",
       "    }\n",
       "\n",
       "    .dataframe tbody tr th {\n",
       "        vertical-align: top;\n",
       "    }\n",
       "\n",
       "    .dataframe thead th {\n",
       "        text-align: right;\n",
       "    }\n",
       "</style>\n",
       "<table border=\"1\" class=\"dataframe\">\n",
       "  <thead>\n",
       "    <tr style=\"text-align: right;\">\n",
       "      <th></th>\n",
       "      <th>Cabin</th>\n",
       "      <th>Sex</th>\n",
       "      <th>Embarked</th>\n",
       "      <th>Survived</th>\n",
       "    </tr>\n",
       "  </thead>\n",
       "  <tbody>\n",
       "    <tr>\n",
       "      <th>352</th>\n",
       "      <td>0.446483</td>\n",
       "      <td>0.248447</td>\n",
       "      <td>1.250000</td>\n",
       "      <td>0</td>\n",
       "    </tr>\n",
       "    <tr>\n",
       "      <th>125</th>\n",
       "      <td>0.446483</td>\n",
       "      <td>0.248447</td>\n",
       "      <td>1.250000</td>\n",
       "      <td>1</td>\n",
       "    </tr>\n",
       "    <tr>\n",
       "      <th>579</th>\n",
       "      <td>0.446483</td>\n",
       "      <td>0.248447</td>\n",
       "      <td>0.533557</td>\n",
       "      <td>1</td>\n",
       "    </tr>\n",
       "    <tr>\n",
       "      <th>424</th>\n",
       "      <td>0.446483</td>\n",
       "      <td>0.248447</td>\n",
       "      <td>0.533557</td>\n",
       "      <td>0</td>\n",
       "    </tr>\n",
       "    <tr>\n",
       "      <th>119</th>\n",
       "      <td>0.446483</td>\n",
       "      <td>2.842105</td>\n",
       "      <td>0.533557</td>\n",
       "      <td>0</td>\n",
       "    </tr>\n",
       "  </tbody>\n",
       "</table>\n",
       "</div>"
      ],
      "text/plain": [
       "        Cabin       Sex  Embarked  Survived\n",
       "352  0.446483  0.248447  1.250000         0\n",
       "125  0.446483  0.248447  1.250000         1\n",
       "579  0.446483  0.248447  0.533557         1\n",
       "424  0.446483  0.248447  0.533557         0\n",
       "119  0.446483  2.842105  0.533557         0"
      ]
     },
     "execution_count": 21,
     "metadata": {},
     "output_type": "execute_result"
    }
   ],
   "source": [
    "# let's see the result\n",
    "\n",
    "X_train.head()"
   ]
  },
  {
   "cell_type": "code",
   "execution_count": 22,
   "metadata": {
    "scrolled": false
   },
   "outputs": [
    {
     "data": {
      "image/png": "[encoded data removed]",
      "text/plain": [
       "<Figure size 432x288 with 1 Axes>"
      ]
     },
     "metadata": {
      "needs_background": "light"
     },
     "output_type": "display_data"
    },
    {
     "data": {
      "image/png": "[encoded data removed]",
      "text/plain": [
       "<Figure size 432x288 with 1 Axes>"
      ]
     },
     "metadata": {
      "needs_background": "light"
     },
     "output_type": "display_data"
    },
    {
     "data": {
      "image/png": "[encoded data removed]",
      "text/plain": [
       "<Figure size 432x288 with 1 Axes>"
      ]
     },
     "metadata": {
      "needs_background": "light"
     },
     "output_type": "display_data"
    }
   ],
   "source": [
    "# let's inspect the newly created monotonic relationship\n",
    "# between the categorical variables and the target\n",
    "\n",
    "for var in ['Cabin', 'Sex', 'Embarked']:\n",
    "    \n",
    "    fig = plt.figure()\n",
    "    fig = X_train.groupby([var])['Survived'].mean().plot()\n",
    "    fig.set_title('Monotonic relationship between {} and Survival'.format(var))\n",
    "    fig.set_ylabel('Mean Survived')\n",
    "    plt.show()"
   ]
  },
  {
   "cell_type": "markdown",
   "metadata": {},
   "source": [
    "Note the monotonic relationships between the mean target and the categories.\n",
    "\n",
    "### Note\n",
    "\n",
    "Replacing categorical labels with this code and method will generate missing values for categories present in the test set that were not seen in the training set. Therefore it is extremely important to handle rare labels before-hand. I will explain how to do this, in a later notebook.\n",
    "\n",
    "**In addition, it will create NA or Inf if the probability of target = 0 is zero, as the division by zero is not defined.**"
   ]
  },
  {
   "cell_type": "markdown",
   "metadata": {},
   "source": [
    "## Probability Ratio Encoding with Feature-Engine\n",
    "\n",
    "If using Feature-Engine, instead of pandas, we do not need to keep the target variable in the training dataset."
   ]
  },
  {
   "cell_type": "code",
   "execution_count": 23,
   "metadata": {},
   "outputs": [
    {
     "data": {
      "text/plain": [
       "((621, 3), (267, 3))"
      ]
     },
     "execution_count": 23,
     "metadata": {},
     "output_type": "execute_result"
    }
   ],
   "source": [
    "# let's separate into training and testing set\n",
    "\n",
    "X_train, X_test, y_train, y_test = train_test_split(\n",
    "    data[['Cabin', 'Sex', 'Embarked']], # predictors\n",
    "    data['Survived'],  # target\n",
    "    test_size=0.3,  # percentage of obs in test set\n",
    "    random_state=0)  # seed to ensure reproducibility\n",
    "\n",
    "X_train.shape, X_test.shape"
   ]
  },
  {
   "cell_type": "code",
   "execution_count": 24,
   "metadata": {},
   "outputs": [],
   "source": [
    "ratio_enc = WoERatioCategoricalEncoder(\n",
    "    encoding_method = 'ratio',\n",
    "    variables=['Cabin', 'Sex', 'Embarked'])"
   ]
  },
  {
   "cell_type": "code",
   "execution_count": 25,
   "metadata": {},
   "outputs": [
    {
     "data": {
      "text/plain": [
       "WoERatioCategoricalEncoder(encoding_method='ratio',\n",
       "                           variables=['Cabin', 'Sex', 'Embarked'])"
      ]
     },
     "execution_count": 25,
     "metadata": {},
     "output_type": "execute_result"
    }
   ],
   "source": [
    "# when fitting the transformer, we need to pass the target as well\n",
    "# just like with any Scikit-learn predictor class\n",
    "\n",
    "ratio_enc.fit(X_train, y_train)"
   ]
  },
  {
   "cell_type": "code",
   "execution_count": 26,
   "metadata": {
    "scrolled": true
   },
   "outputs": [
    {
     "data": {
      "text/plain": [
       "{'Cabin': {'A': 0.8571428571428572,\n",
       "  'B': 2.666666666666667,\n",
       "  'C': 1.210526315789474,\n",
       "  'D': 3.0,\n",
       "  'E': 3.333333333333334,\n",
       "  'F': 1.4000000000000001,\n",
       "  'G': 1.0,\n",
       "  'n': 0.4464831804281345},\n",
       " 'Sex': {'female': 2.8421052631578942, 'male': 0.2484472049689441},\n",
       " 'Embarked': {'C': 1.2500000000000002,\n",
       "  'Q': 0.6969696969696969,\n",
       "  'S': 0.5335570469798658}}"
      ]
     },
     "execution_count": 26,
     "metadata": {},
     "output_type": "execute_result"
    }
   ],
   "source": [
    "# in the encoder dict we see the P(1)/P(0) for each\n",
    "# category for each of the indicated variables\n",
    "\n",
    "ratio_enc.encoder_dict_"
   ]
  },
  {
   "cell_type": "code",
   "execution_count": 27,
   "metadata": {},
   "outputs": [
    {
     "data": {
      "text/plain": [
       "['Cabin', 'Sex', 'Embarked']"
      ]
     },
     "execution_count": 27,
     "metadata": {},
     "output_type": "execute_result"
    }
   ],
   "source": [
    "# this is the list of variables that the encoder will transform\n",
    "\n",
    "ratio_enc.variables"
   ]
  },
  {
   "cell_type": "code",
   "execution_count": 28,
   "metadata": {},
   "outputs": [
    {
     "data": {
      "text/html": [
       "<div>\n",
       "<style scoped>\n",
       "    .dataframe tbody tr th:only-of-type {\n",
       "        vertical-align: middle;\n",
       "    }\n",
       "\n",
       "    .dataframe tbody tr th {\n",
       "        vertical-align: top;\n",
       "    }\n",
       "\n",
       "    .dataframe thead th {\n",
       "        text-align: right;\n",
       "    }\n",
       "</style>\n",
       "<table border=\"1\" class=\"dataframe\">\n",
       "  <thead>\n",
       "    <tr style=\"text-align: right;\">\n",
       "      <th></th>\n",
       "      <th>Cabin</th>\n",
       "      <th>Sex</th>\n",
       "      <th>Embarked</th>\n",
       "    </tr>\n",
       "  </thead>\n",
       "  <tbody>\n",
       "    <tr>\n",
       "      <th>352</th>\n",
       "      <td>0.446483</td>\n",
       "      <td>0.248447</td>\n",
       "      <td>1.250000</td>\n",
       "    </tr>\n",
       "    <tr>\n",
       "      <th>125</th>\n",
       "      <td>0.446483</td>\n",
       "      <td>0.248447</td>\n",
       "      <td>1.250000</td>\n",
       "    </tr>\n",
       "    <tr>\n",
       "      <th>579</th>\n",
       "      <td>0.446483</td>\n",
       "      <td>0.248447</td>\n",
       "      <td>0.533557</td>\n",
       "    </tr>\n",
       "    <tr>\n",
       "      <th>424</th>\n",
       "      <td>0.446483</td>\n",
       "      <td>0.248447</td>\n",
       "      <td>0.533557</td>\n",
       "    </tr>\n",
       "    <tr>\n",
       "      <th>119</th>\n",
       "      <td>0.446483</td>\n",
       "      <td>2.842105</td>\n",
       "      <td>0.533557</td>\n",
       "    </tr>\n",
       "  </tbody>\n",
       "</table>\n",
       "</div>"
      ],
      "text/plain": [
       "        Cabin       Sex  Embarked\n",
       "352  0.446483  0.248447  1.250000\n",
       "125  0.446483  0.248447  1.250000\n",
       "579  0.446483  0.248447  0.533557\n",
       "424  0.446483  0.248447  0.533557\n",
       "119  0.446483  2.842105  0.533557"
      ]
     },
     "execution_count": 28,
     "metadata": {},
     "output_type": "execute_result"
    }
   ],
   "source": [
    "X_train = ratio_enc.transform(X_train)\n",
    "X_test = ratio_enc.transform(X_test)\n",
    "\n",
    "# let's explore the result\n",
    "X_train.head()"
   ]
  },
  {
   "cell_type": "markdown",
   "metadata": {},
   "source": [
    "**Note**\n",
    "\n",
    "If the argument variables is left to None, then the encoder will automatically identify all categorical variables. Is that not sweet?\n",
    "\n",
    "The encoder will not encode numerical variables. So if some of your numerical variables are in fact categories, you will need to re-cast them as object before using the encoder.\n",
    "\n",
    "If there is a label in the test set that was not present in the train set, the encoder will through and error, to alert you of this behaviour.\n",
    "\n",
    "Finally, if the probability of target = 0 is zero for any category, the encoder will raise an error as the division by zero is not defined."
   ]
  },
  {
   "cell_type": "code",
   "execution_count": null,
   "metadata": {},
   "outputs": [],
   "source": []
  }
 ],
 "metadata": {
  "kernelspec": {
   "display_name": "Python 3",
   "language": "python",
   "name": "python3"
  },
  "language_info": {
   "codemirror_mode": {
    "name": "ipython",
    "version": 3
   },
   "file_extension": ".py",
   "mimetype": "text/x-python",
   "name": "python",
   "nbconvert_exporter": "python",
   "pygments_lexer": "ipython3",
   "version": "3.8.3"
  },
  "toc": {
   "base_numbering": 1,
   "nav_menu": {},
   "number_sections": true,
   "sideBar": true,
   "skip_h1_title": false,
   "title_cell": "Table of Contents",
   "title_sidebar": "Contents",
   "toc_cell": false,
   "toc_position": {},
   "toc_section_display": "block",
   "toc_window_display": true
  }
 },
 "nbformat": 4,
 "nbformat_minor": 2
}
